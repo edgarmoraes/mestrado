{
 "cells": [
  {
   "cell_type": "code",
   "execution_count": null,
   "id": "cd193b71-0621-4b66-872f-9d0f75562ba8",
   "metadata": {},
   "outputs": [],
   "source": [
    "#Vamos fazer nosso trabalho cá neste ficheiro\n",
    "#David está atualizado\n",
    "#Faltam Henrique e Patrícia\n",
    "Henrique e Patricia sao sacos"
   ]
  }
 ],
 "metadata": {
  "kernelspec": {
   "display_name": "Python 3 (ipykernel)",
   "language": "python",
   "name": "python3"
  },
  "language_info": {
   "codemirror_mode": {
    "name": "ipython",
    "version": 3
   },
   "file_extension": ".py",
   "mimetype": "text/x-python",
   "name": "python",
   "nbconvert_exporter": "python",
   "pygments_lexer": "ipython3",
   "version": "3.12.4"
  }
 },
 "nbformat": 4,
 "nbformat_minor": 5
}
