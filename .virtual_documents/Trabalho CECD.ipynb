#Vamos fazer nosso trabalho cá neste ficheiro
#David está atualizado
#Faltam Henrique e Patrícia
